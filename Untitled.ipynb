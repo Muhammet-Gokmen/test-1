{
 "cells": [
  {
   "cell_type": "code",
   "execution_count": 11,
   "id": "31fac27b",
   "metadata": {},
   "outputs": [],
   "source": [
    "#with open(\"fishes.txt\",\"r\",encoding=\"utf-8\") as file:\n",
    "  #print(file)\n",
    "#  print()\n",
    " # print(file.read())"
   ]
  },
  {
   "cell_type": "code",
   "execution_count": 2,
   "id": "d228560f",
   "metadata": {},
   "outputs": [],
   "source": [
    "import os"
   ]
  },
  {
   "cell_type": "code",
   "execution_count": 7,
   "id": "4cfe23d4",
   "metadata": {},
   "outputs": [],
   "source": [
    "files = os.listdir()"
   ]
  },
  {
   "cell_type": "code",
   "execution_count": 8,
   "id": "6484b227",
   "metadata": {},
   "outputs": [
    {
     "name": "stdout",
     "output_type": "stream",
     "text": [
      "['.git', '.ipynb_checkpoints', 'test', 'Untitled.ipynb']\n"
     ]
    }
   ],
   "source": [
    "print(files)"
   ]
  },
  {
   "cell_type": "code",
   "execution_count": 5,
   "id": "32d100af",
   "metadata": {},
   "outputs": [],
   "source": [
    "import shutil"
   ]
  },
  {
   "cell_type": "code",
   "execution_count": null,
   "id": "fe7ed0f9",
   "metadata": {},
   "outputs": [],
   "source": [
    "#shutil.make_archive(\"hedef_zip\", \"zip\",\"kaynak_ziplenecek\")"
   ]
  },
  {
   "cell_type": "code",
   "execution_count": 9,
   "id": "82932696",
   "metadata": {},
   "outputs": [
    {
     "data": {
      "text/plain": [
       "'C:\\\\Users\\\\99650\\\\test22.tx\\\\tst.zip'"
      ]
     },
     "execution_count": 9,
     "metadata": {},
     "output_type": "execute_result"
    }
   ],
   "source": [
    "shutil.make_archive(\"tst\", \"zip\",\"test\")"
   ]
  },
  {
   "cell_type": "code",
   "execution_count": null,
   "id": "f3bc8990",
   "metadata": {},
   "outputs": [],
   "source": [
    "#with open (\"fishes.txt\",\"r\", encoding = \"utf-8\") as file:\n",
    "#    print(file.readline(13))\n",
    "#    print(file.readline(13))\n",
    "#    print(file.readline(13))\n",
    "#    print(file.readline(13))\n",
    "#    print(file.readline(13))"
   ]
  },
  {
   "cell_type": "code",
   "execution_count": null,
   "id": "263bc6a0",
   "metadata": {},
   "outputs": [],
   "source": []
  }
 ],
 "metadata": {
  "kernelspec": {
   "display_name": "Python 3 (ipykernel)",
   "language": "python",
   "name": "python3"
  },
  "language_info": {
   "codemirror_mode": {
    "name": "ipython",
    "version": 3
   },
   "file_extension": ".py",
   "mimetype": "text/x-python",
   "name": "python",
   "nbconvert_exporter": "python",
   "pygments_lexer": "ipython3",
   "version": "3.9.7"
  }
 },
 "nbformat": 4,
 "nbformat_minor": 5
}
